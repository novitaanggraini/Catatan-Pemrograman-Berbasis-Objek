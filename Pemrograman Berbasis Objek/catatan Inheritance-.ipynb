{
 "cells": [
  {
   "cell_type": "markdown",
   "metadata": {},
   "source": [
    "# Inheritance\n",
    "\n",
    "Inheritance bisa juga disebut sebagai pewarisan atau kemampuan sebuah class untuk menurunkan property atau method yang dimilikinya kedalam class lain. Tujuannya untuk menghindari duplikasi kode program dan reusable code. class yang mewariskan / menurunkan property atau methodnya disebut Base class / Parent class/Suoer Class. Sedangkan Class yang Menerima Pewarisan Method atau properti disebut dengan child class/ sub class.\n"
   ]
  },
  {
   "cell_type": "markdown",
   "metadata": {},
   "source": [
    "<img src=\"inheritance.png\">\n",
    "\n",
    "Berikut adalah bentuk umum dari class:"
   ]
  },
  {
   "cell_type": "code",
   "execution_count": 3,
   "metadata": {},
   "outputs": [
    {
     "name": "stdout",
     "output_type": "stream",
     "text": [
      "nama: brian\n",
      "nama: diana\n",
      "programing python\n"
     ]
    }
   ],
   "source": [
    "class user:# Class User merupakan Base class\n",
    "    def __init__(self,name):\n",
    "        self.name= name\n",
    "    def printname (self):\n",
    "        print(\"nama:\",self.name)\n",
    "        \n",
    "class programer(user): # Class Programer merupakan Sub class dari CLass User\n",
    "    def __init__(self,name):\n",
    "        self.name= name\n",
    "    def dopython(self):\n",
    "        print(\"programing python\")\n",
    "        \n",
    "brian= user(\"brian\") # ini merupakan objek dari class user\n",
    "brian.printname()\n",
    "diana= programer(\"diana\") # ini merupakan objek dari class Programer\n",
    "diana.printname() # ini merupakan properti yang diwariskan dari Class User\n",
    "diana.dopython()\n"
   ]
  },
  {
   "cell_type": "markdown",
   "metadata": {},
   "source": [
    "Macam- Macam Inheritance:\n",
    "1. default Inheritance adalah pewarisan semua property dan method Base Class  yang sama persis kepada sub class nya."
   ]
  },
  {
   "cell_type": "markdown",
   "metadata": {},
   "source": [
    "<img src=\"inheritance1.png\">\n",
    "Berikut adalah contoh default Inheritance:"
   ]
  },
  {
   "cell_type": "code",
   "execution_count": 5,
   "metadata": {},
   "outputs": [
    {
     "name": "stdout",
     "output_type": "stream",
     "text": [
      "Terry Fish\n",
      "bone\n",
      "False\n",
      "The fish is swimming.\n",
      "The fish can swim backwards.\n"
     ]
    }
   ],
   "source": [
    "class Fish: # Class fish merupakan Base CLass\n",
    "    def __init__(self, first_name, last_name=\"Fish\",\n",
    "                 skeleton=\"bone\", eyelids=False):\n",
    "        self.first_name = first_name\n",
    "        self.last_name = last_name\n",
    "        self.skeleton = skeleton\n",
    "        self.eyelids = eyelids\n",
    "\n",
    "    def swim(self):\n",
    "        print(\"The fish is swimming.\")\n",
    "\n",
    "    def swim_backwards(self):\n",
    "        print(\"The fish can swim backwards.\")\n",
    "        \n",
    "class Trout(Fish): # merupakan Sub Class dari Class Fish\n",
    "    pass # dengan modul pass Pewaris dari Base class akan memiliki seluruh variabel dan fungsi bahkan konstruktornya\n",
    "\n",
    "terry = Trout(\"Terry\") # ini merupakan objek class Trout\n",
    "print(terry.first_name + \" \" + terry.last_name)\n",
    "print(terry.skeleton)\n",
    "print(terry.eyelids)\n",
    "terry.swim()\n",
    "terry.swim_backwards()"
   ]
  },
  {
   "cell_type": "markdown",
   "metadata": {},
   "source": [
    "2. Overriding Inheritance adalah Pewarisan dimana Sub Class bisa merubah/memodifikasi properti/methode dari Base Class\n"
   ]
  },
  {
   "cell_type": "markdown",
   "metadata": {},
   "source": [
    "<img src=\"overriding_inheritance.png\">\n",
    "\n",
    "Berikut adalah contoh overriding Inheritance:"
   ]
  },
  {
   "cell_type": "code",
   "execution_count": 7,
   "metadata": {},
   "outputs": [
    {
     "name": "stdout",
     "output_type": "stream",
     "text": [
      "Sammy Shark\n",
      "The fish is swimming.\n",
      "The shark cannot swim backwards, but can sink backwards.\n",
      "True\n",
      "cartilage\n"
     ]
    }
   ],
   "source": [
    "class Fish: # ini merupakan Base Class\n",
    "    def __init__(self, first_name, last_name=\"Fish\",\n",
    "                 skeleton=\"bone\", eyelids=False):\n",
    "        self.first_name = first_name\n",
    "        self.last_name = last_name\n",
    "        self.skeleton = skeleton\n",
    "        self.eyelids = eyelids\n",
    "\n",
    "    def swim(self):\n",
    "        print(\"The fish is swimming.\")\n",
    "\n",
    "    def swim_backwards(self):\n",
    "        print(\"The fish can swim backwards.\")\n",
    "        \n",
    "class Shark(Fish): #ini merupakan Sub Class\n",
    "    def __init__(self, first_name, last_name=\"Shark\",\n",
    "                 skeleton=\"cartilage\", eyelids=True):# class Shark memodifikasi properti dari Class Fish\n",
    "        self.first_name = first_name\n",
    "        self.last_name = last_name\n",
    "        self.skeleton = skeleton\n",
    "        self.eyelids = eyelids\n",
    "\n",
    "    def swim_backwards(self):\n",
    "        print(\"The shark cannot swim backwards, but can sink backwards.\")\n",
    "        \n",
    "sammy = Shark(\"Sammy\") #ini merupakan objek class Shark\n",
    "print(sammy.first_name + \" \" + sammy.last_name)\n",
    "sammy.swim()\n",
    "sammy.swim_backwards()\n",
    "print(sammy.eyelids)\n",
    "print(sammy.skeleton)"
   ]
  },
  {
   "cell_type": "markdown",
   "metadata": {},
   "source": [
    "3. fungsi Super () adalah Pewarisan Method dimana pada Sub class Method warisan tersebut akan dimodifikasi atau ditambahkan hal yang unik\n",
    "\n",
    "Berikut adalah contoh overriding Inheritance:"
   ]
  },
  {
   "cell_type": "code",
   "execution_count": 10,
   "metadata": {},
   "outputs": [
    {
     "name": "stdout",
     "output_type": "stream",
     "text": [
      "Terry Fish\n",
      "False\n",
      "freshwater\n",
      "The fish is swimming.\n"
     ]
    }
   ],
   "source": [
    "class Fish: # ini merupakan Base Class\n",
    "    def __init__(self, first_name, last_name=\"Fish\",\n",
    "                 skeleton=\"bone\", eyelids=False):\n",
    "        self.first_name = first_name\n",
    "        self.last_name = last_name\n",
    "        self.skeleton = skeleton\n",
    "        self.eyelids = eyelids\n",
    "\n",
    "    def swim(self):\n",
    "        print(\"The fish is swimming.\")\n",
    "\n",
    "    def swim_backwards(self):\n",
    "        print(\"The fish can swim backwards.\")\n",
    "        \n",
    "class Trout(Fish): # ini merupkan Sub Class\n",
    "    def __init__(self, water = \"freshwater\"):\n",
    "        self.water = water\n",
    "        super().__init__(self)\n",
    "\n",
    "terry = Trout() #objek class Trout\n",
    "terry.first_name = \"Terry\"\n",
    "print(terry.first_name + \" \" + terry.last_name)\n",
    "print(terry.eyelids)\n",
    "print(terry.water) # Menggunakan Override dari class Trout\n",
    "terry.swim()#menggunakan Method CLass Fish"
   ]
  },
  {
   "cell_type": "markdown",
   "metadata": {},
   "source": [
    "4. Multiple Inheritance : pewarisan Method / Property dari 2 Parents Class\n",
    "\n",
    "<img src=\"multiple_inheritance.png\">\n",
    "\n",
    "Berikut adalah contoh overriding Inheritance:"
   ]
  },
  {
   "cell_type": "code",
   "execution_count": 11,
   "metadata": {},
   "outputs": [
    {
     "name": "stdout",
     "output_type": "stream",
     "text": [
      "Coral lives in a community.\n",
      "The anemone is protecting the clownfish.\n"
     ]
    }
   ],
   "source": [
    "class Coral:#merupakan Parent class\n",
    "\n",
    "    def community(self):\n",
    "        print(\"Coral lives in a community.\")\n",
    "\n",
    "class Anemone: #merupakan Parent class\n",
    "\n",
    "    def protect_clownfish(self):\n",
    "        print(\"The anemone is protecting the clownfish.\")\n",
    "\n",
    "class CoralReef(Coral, Anemone):# merupakan Sub class Dari Class Coral dan Class Anemon\n",
    "    pass\n",
    "\n",
    "great_barrier = CoralReef()\n",
    "great_barrier.community()\n",
    "great_barrier.protect_clownfish()"
   ]
  },
  {
   "cell_type": "markdown",
   "metadata": {},
   "source": [
    "Contoh Inheritance Class People:"
   ]
  },
  {
   "cell_type": "code",
   "execution_count": 12,
   "metadata": {},
   "outputs": [
    {
     "name": "stdout",
     "output_type": "stream",
     "text": [
      "Nama Karyawan: joni \n",
      " NIP: 123456\n",
      "Nama Dosen: Juminten \n",
      " NIP: 12345 \n",
      " NIDN: 67890\n"
     ]
    }
   ],
   "source": [
    "class people:\n",
    "    def __init__(self,name):\n",
    "        self.name= name\n",
    "    def printname(self):\n",
    "        print(\"Nama:\",self.name)\n",
    "\n",
    "class student(people):\n",
    "    def __init__(self,name,nim):\n",
    "        super().__init__(name)\n",
    "        self.nim=nim\n",
    "\n",
    "class worker(people):\n",
    "    def __init__(self, name, nip):\n",
    "        super().__init__(name)\n",
    "        self.nip = nip\n",
    "\n",
    "class employee(worker):\n",
    "    def __init__(self, name, nip):\n",
    "        super().__init__(name,nip)\n",
    "    def show(self):\n",
    "        print(\"Nama Karyawan:\",self.name,\"\\n\",\"NIP:\",self.nip)\n",
    "\n",
    "class lecturer(worker):\n",
    "    def __init__(self, name, nip,nidn):\n",
    "        super().__init__(name,nip)\n",
    "        self.nidn= nidn\n",
    "    def show1(self):\n",
    "        print(\"Nama Dosen:\",self.name,\"\\n\",\"NIP:\",self.nip,\"\\n\",\"NIDN:\",self.nidn)\n",
    "\n",
    "karyawan= employee(\"joni\",123456)\n",
    "karyawan.show()\n",
    "dosen=lecturer(\"Juminten\",12345,67890)\n",
    "dosen.show1()"
   ]
  },
  {
   "cell_type": "markdown",
   "metadata": {},
   "source": [
    "Contoh Inheritance Class Orang:"
   ]
  },
  {
   "cell_type": "code",
   "execution_count": 13,
   "metadata": {},
   "outputs": [
    {
     "name": "stdout",
     "output_type": "stream",
     "text": [
      "nama: tono \n",
      " kode pegawai: 1234 \n",
      " kode lokasi cabang: 1640\n"
     ]
    }
   ],
   "source": [
    "class orang:\n",
    "    def __init__(self,nama):\n",
    "        self.nama=nama\n",
    "\n",
    "class karyawan (orang):\n",
    "    def __init__(self,nama,kodepegawai):\n",
    "        super().__init__(nama)\n",
    "        self.kodepegawai=kodepegawai\n",
    "\n",
    "class karyawan_cabang(karyawan):\n",
    "    def __init__(self, nama, kodepegawai,kodelokasicabang):\n",
    "        super(). __init__(nama,kodepegawai)\n",
    "        self.kodecabang=kodelokasicabang\n",
    "    def tampilkan1(self):\n",
    "        print(\"nama:\",self.nama,\"\\n\",\"kode pegawai:\", self.kodepegawai,\"\\n\",\"kode lokasi cabang:\",self.kodecabang)\n",
    "\n",
    "karyawan_cabang1=karyawan_cabang(\"tono\",1234,1640)\n",
    "karyawan_cabang1.tampilkan1()"
   ]
  }
 ],
 "metadata": {
  "kernelspec": {
   "display_name": "Python 3",
   "language": "python",
   "name": "python3"
  },
  "language_info": {
   "codemirror_mode": {
    "name": "ipython",
    "version": 3
   },
   "file_extension": ".py",
   "mimetype": "text/x-python",
   "name": "python",
   "nbconvert_exporter": "python",
   "pygments_lexer": "ipython3",
   "version": "3.7.0"
  }
 },
 "nbformat": 4,
 "nbformat_minor": 2
}
