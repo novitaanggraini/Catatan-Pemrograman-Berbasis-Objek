{
 "cells": [
  {
   "cell_type": "markdown",
   "metadata": {},
   "source": [
    "# Class dan Objek\n",
    "\n",
    "Class adalah kerangka yang berisi properti dan methode untuk membuat sebuah objek.\n",
    "jadi didalam class terdapat properti dan method ,dimana properti adalah apa yang dimiliki class tersebut. Sedangkan method adalah apa yang bisa kita lakukan pada properti tersebut."
   ]
  },
  {
   "cell_type": "markdown",
   "metadata": {},
   "source": [
    "<img src=\"kubusy.png\">"
   ]
  },
  {
   "cell_type": "markdown",
   "metadata": {},
   "source": [
    "cara membuat class adalah sebagai berikut:\n",
    "1. menuliskan keyword class dengan diikuti nama class yang kita inginkan (identifier) diakhiri dengan tanda :\n",
    "2. setelah itu kita haru menginisialisasi atribut yang kita gunakan dengan menggunakan method spesial yang bernama init.Metode __init__() adalah metode konstruktor, yaitu metode khusus yang digunakan Python untuk menginisialisasi pembuatan objek dari kelas tersebut. \n",
    "3.  seteleh menuliskan init kita harus menambah kan self karena,Setiap method harus memiliki parameter self yang artinya method tersebut dimiliki dan terdaftar ke class tersebut untuk membedakan dari method atau fungsi yang ada di luar class.\n",
    "4. setelah itu utnuk mengakses objek pertama kita harus menuliskan nama objek = nama class lalu diikuti argumen sesuai dengan fungsi __init__() pada saat kita mendefinisikannya .\n",
    "5. kita juga bisa mengakses method objek dengan menuliskan nama objek.nama method()\n",
    "\n",
    "Berikut adalah contoh dari class kubus"
   ]
  },
  {
   "cell_type": "code",
   "execution_count": 1,
   "metadata": {
    "scrolled": true
   },
   "outputs": [
    {
     "name": "stdout",
     "output_type": "stream",
     "text": [
      "3\n",
      "luas= 9\n",
      "volume= 27\n",
      "luas permukaan= 324\n"
     ]
    }
   ],
   "source": [
    "class kubus : # kubus merupakan nama class\n",
    "    def __init__(self,s): # s merupakan atribut dari kelas s\n",
    "        self.sisi = s \n",
    "        \n",
    "    def tampilkansisi(self): # tampilkansisi merupakan method dari class kubus\n",
    "        print(self.sisi)\n",
    "        \n",
    "    def volume(self):\n",
    "        print(\"volume=\",self.sisi**3)\n",
    "        \n",
    "    def luaspermukaan(self): # Volume dan luaspermukaan juga merupakan method dari class kubus\n",
    "        print(\"luas permukaan=\",(self.sisi*6)**2)\n",
    "        \n",
    "kubus1= kubus(3) # kubus1 merupakan nama objek (3) merupakan argumen yang didefinisikan pada fungsi init diatas\n",
    "kubus1.tampilkansisi() # ini merupakakan penulisan  mengakses method objek\n",
    "kubus1.volume()\n",
    "kubus1.luaspermukaan()"
   ]
  },
  {
   "cell_type": "markdown",
   "metadata": {},
   "source": [
    "Berikut adalah contoh class mahasiswa:"
   ]
  },
  {
   "cell_type": "code",
   "execution_count": 6,
   "metadata": {},
   "outputs": [
    {
     "name": "stdout",
     "output_type": "stream",
     "text": [
      "novitaanggraini , 180441100093 , 3\n",
      "anda bisa mendaftar beasiswa\n"
     ]
    }
   ],
   "source": [
    "class mahasiswa:\n",
    "    def __init__(self,nama,nim,ipk):# nama,nim,ipk merupakan atribut dari kelas mahasiswa\n",
    "        self.nama = nama\n",
    "        self.nim = nim\n",
    "        self.ipk = ipk\n",
    "    \n",
    "    def tampilkan(self): #tampilkan merupakan method untuk menampilkan properti pada class mahasiswa\n",
    "        print(self.nama,\",\",self.nim,\",\",self.ipk)\n",
    "        \n",
    "    def beasiswa(self):    \n",
    "        if self.ipk < 3:\n",
    "            print(\"anda tidak bisa mendaftar beasiswa\")\n",
    "        else :\n",
    "            print(\"anda bisa mendaftar beasiswa\")\n",
    "\n",
    "mahasiswa1=mahasiswa(\"novitaanggraini\",\"180441100093\",3) \n",
    "mahasiswa1.tampilkan()\n",
    "mahasiswa1.beasiswa()"
   ]
  },
  {
   "cell_type": "markdown",
   "metadata": {},
   "source": [
    "Berikut adalah contoh class pegawai dengan method menampilkan properti dan umur saat ini:"
   ]
  },
  {
   "cell_type": "code",
   "execution_count": 2,
   "metadata": {},
   "outputs": [
    {
     "name": "stdout",
     "output_type": "stream",
     "text": [
      "nomor: 3 \n",
      " nama: Novita\n",
      "Umur saya saat ini 19 tahun 4 bulan 20 hari\n"
     ]
    }
   ],
   "source": [
    "from datetime import datetime # ini merupakan modul untuk mengambil tanggal,tahun,dan waktu di python\n",
    "from dateutil import relativedelta \n",
    "saatini= datetime.now()\n",
    "tahunini= saatini.year\n",
    "bulanini= saatini.month\n",
    "hariini= saatini.day\n",
    "tanggalini= datetime(tahunini,bulanini,hariini)\n",
    "class pegawai:\n",
    "    def __init__(self,n,m,t,b,d):\n",
    "        self.nomer=n\n",
    "        self.nama=m\n",
    "        self.tahunlahir=t\n",
    "        self.bulanlahir=b\n",
    "        self.tanggallahir=d\n",
    "        self.dateborn= datetime(self.tahunlahir,self.bulanlahir,self.tanggallahir)\n",
    "    def tampilkan(self):\n",
    "        print(\"nomor:\",self.nomer,\"\\n\",\"nama:\",self.nama)\n",
    "        \n",
    "    def umursaatini(self):\n",
    "        self.umur= relativedelta.relativedelta(tanggalini,self.dateborn)\n",
    "        print(\"Umur saya saat ini\",self.umur.years,\"tahun\",self.umur.months,\"bulan\",self.umur.days,\"hari\")\n",
    "        \n",
    "pegawai1=pegawai(3,\"Novita\",1999,11,13)\n",
    "pegawai1.tampilkan()\n",
    "pegawai1.umursaatini()\n"
   ]
  },
  {
   "cell_type": "markdown",
   "metadata": {},
   "source": [
    "Berikut ini adalah contoh class mahasiswa dengan method untuk menghitung semester saat ini:"
   ]
  },
  {
   "cell_type": "code",
   "execution_count": 1,
   "metadata": {},
   "outputs": [
    {
     "name": "stdout",
     "output_type": "stream",
     "text": [
      "Nama: novitaanggraini \n",
      " NIM: 180441100093\n",
      "Semester: 2\n"
     ]
    }
   ],
   "source": [
    "from datetime import datetime\n",
    "class mahasiswa:\n",
    "    def __init__(self,n,m):\n",
    "        self.nama = n\n",
    "        self.nim = m\n",
    "    \n",
    "    def tampilkan(self):\n",
    "        print(\"Nama:\",self.nama,\"\\n\",\"NIM:\",self.nim,)\n",
    "        \n",
    "    def semestersaatini(self):\n",
    "        saatini = datetime.now()\n",
    "        tahun= saatini.year\n",
    "        self.bulan= saatini.month\n",
    "        \n",
    "        if self.bulan <=6 :\n",
    "            n=0\n",
    "        else:\n",
    "            n=1\n",
    "        \n",
    "        self.tahunsaatini = int(str(tahun)[2:])\n",
    "        self.tahunmasuk = int(self.nim[:2])\n",
    "        self.semester= 2*(self.tahunsaatini-self.tahunmasuk) + n\n",
    "        print(\"Semester:\",self.semester)\n",
    "        \n",
    "\n",
    "mahasiswa1=mahasiswa(\"novitaanggraini\",\"180441100093\")\n",
    "mahasiswa1.tampilkan()\n",
    "mahasiswa1.semestersaatini()"
   ]
  }
 ],
 "metadata": {
  "kernelspec": {
   "display_name": "Python 3",
   "language": "python",
   "name": "python3"
  },
  "language_info": {
   "codemirror_mode": {
    "name": "ipython",
    "version": 3
   },
   "file_extension": ".py",
   "mimetype": "text/x-python",
   "name": "python",
   "nbconvert_exporter": "python",
   "pygments_lexer": "ipython3",
   "version": "3.7.0"
  }
 },
 "nbformat": 4,
 "nbformat_minor": 2
}
