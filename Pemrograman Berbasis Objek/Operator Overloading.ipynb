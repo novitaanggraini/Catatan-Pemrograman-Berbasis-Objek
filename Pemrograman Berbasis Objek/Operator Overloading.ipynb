{
 "cells": [
  {
   "attachments": {},
   "cell_type": "markdown",
   "metadata": {},
   "source": [
    "# Operator Overloading\n",
    "<img src=\"overloading.png\">\n",
    "Method Overloading adalah sebuah kemampuan yang membolehkan sebuah class mempunyai 2 atau lebih method dengan nama yang sama, yang membedakan adalah parameternya. Operator overloading dapat dicapai dengan mendefinisikan methode khusus(Magic method) di dalam kelas.\n"
   ]
  },
  {
   "cell_type": "markdown",
   "metadata": {},
   "source": [
    "<img src=\"magic method.jpg\">\n",
    "Magic Operator / special functions utnuk operator overoading adalah method yang digunakan untuk mendefinisikan operator overloading"
   ]
  },
  {
   "cell_type": "code",
   "execution_count": 1,
   "metadata": {},
   "outputs": [
    {
     "name": "stdout",
     "output_type": "stream",
     "text": [
      "11\n",
      "higeeks\n"
     ]
    }
   ],
   "source": [
    "def add(datatype,*args):\n",
    "\n",
    "    if datatype=='int':\n",
    "        answer=0\n",
    "    if datatype=='str':\n",
    "        answer=''\n",
    "\n",
    "    for x in args:\n",
    "        answer=answer + x\n",
    "\n",
    "    print(answer)\n",
    "\n",
    "#integer\n",
    "add('int',5,6)\n",
    "\n",
    "#string\n",
    "add('str','hi','geeks')"
   ]
  },
  {
   "cell_type": "code",
   "execution_count": 2,
   "metadata": {},
   "outputs": [
    {
     "name": "stdout",
     "output_type": "stream",
     "text": [
      "Hello \n",
      "Hello Guido\n"
     ]
    }
   ],
   "source": [
    "class Human:\n",
    "    def sayHello(self, name=None):\n",
    "        if name is not None:\n",
    "            print('Hello ' + name)\n",
    "        else:\n",
    "            print('Hello ')\n",
    "# Create instance\n",
    "obj = Human()\n",
    "\n",
    "# Call the method\n",
    "obj.sayHello()\n",
    "\n",
    "# Call the method with a parameter\n",
    "obj.sayHello('Guido')\n"
   ]
  },
  {
   "cell_type": "code",
   "execution_count": 7,
   "metadata": {},
   "outputs": [
    {
     "name": "stdout",
     "output_type": "stream",
     "text": [
      "Point object is at: (3, 1)\n",
      "Point object is at: (1, 5)\n"
     ]
    }
   ],
   "source": [
    "#operator overloading dan magic operator\n",
    "class Point:\n",
    "    def __init__(self, x = 0, y = 0):\n",
    "        self.x = x\n",
    "        self.y = y\n",
    "    #def __str__(self):\n",
    "    #   return \"({0},{1})\".format(self.x,self.y)\n",
    "    def __str__(self):\n",
    "        return \"Point object is at: (\" + str(self.x) + \", \" + str(self.y) + \")\"\n",
    "    def __sub__(self,other):\n",
    "        x = self.x - other.x\n",
    "        y = self.y - other.y\n",
    "        return Point(x,y)\n",
    "    def __add__(self,other):\n",
    "        x = self.x + other.x\n",
    "        y = self.y + other.y\n",
    "        return Point(x,y)\n",
    "p1 = Point(2,3)\n",
    "p2 = Point(-1,2)\n",
    "print(p1 - p2)#// p1.__add__(p2)\n",
    "print(p1 + p2)\n"
   ]
  },
  {
   "cell_type": "code",
   "execution_count": 8,
   "metadata": {},
   "outputs": [
    {
     "ename": "SyntaxError",
     "evalue": "unexpected EOF while parsing (<ipython-input-8-64d779963bf2>, line 14)",
     "output_type": "error",
     "traceback": [
      "\u001b[1;36m  File \u001b[1;32m\"<ipython-input-8-64d779963bf2>\"\u001b[1;36m, line \u001b[1;32m14\u001b[0m\n\u001b[1;33m    print(p1.__sub__(p2)/p1.__sub__(p2)\u001b[0m\n\u001b[1;37m                                       ^\u001b[0m\n\u001b[1;31mSyntaxError\u001b[0m\u001b[1;31m:\u001b[0m unexpected EOF while parsing\n"
     ]
    }
   ],
   "source": []
  },
  {
   "cell_type": "code",
   "execution_count": 4,
   "metadata": {},
   "outputs": [
    {
     "name": "stdout",
     "output_type": "stream",
     "text": [
      "2/4\n",
      "6/8\n"
     ]
    }
   ],
   "source": [
    "#penjumlahan\n",
    "class fraction:\n",
    "    def __init__(self,top,bottom):\n",
    "        self.num=top\n",
    "        self.den=bottom\n",
    "    def __str__(self):\n",
    "        return str(self.num)+\"/\"+str(self.den)\n",
    "    def __add__(self,otherfraction):\n",
    "        newnum=self.num*otherfraction.den+self.den*otherfraction.num\n",
    "        newden=self.den*otherfraction.den\n",
    "        return fraction(newnum,newden)\n",
    "f= fraction(2,4)\n",
    "print(f)\n",
    "\n",
    "f1= fraction(1,4)\n",
    "f2= fraction(1,2)\n",
    "print(f1.__add__(f2))"
   ]
  },
  {
   "cell_type": "code",
   "execution_count": 1,
   "metadata": {},
   "outputs": [
    {
     "name": "stdout",
     "output_type": "stream",
     "text": [
      "2/4\n"
     ]
    }
   ],
   "source": [
    "#pembagian\n",
    "class fraction:\n",
    "    def __init__(self,top,bottom):\n",
    "        self.num=top\n",
    "        self.den=bottom\n",
    "    def __str__(self):\n",
    "        return str(self.num)+\"/\"+str(self.den)\n",
    "    def __mull__(self,otherfraction):\n",
    "        newnum=self.num*otherfraction.den\n",
    "        newden=self.den*otherfraction.num\n",
    "        return fraction(newnum,newden)\n",
    "\n",
    "f1= fraction(1,4)\n",
    "f2= fraction(1,2)\n",
    "print(fraction.__mull__(f1,f2))"
   ]
  },
  {
   "cell_type": "code",
   "execution_count": 1,
   "metadata": {},
   "outputs": [
    {
     "name": "stdout",
     "output_type": "stream",
     "text": [
      "hasil jumlah= (12, 10)\n",
      "hasil kurang= (4, 4)\n"
     ]
    }
   ],
   "source": [
    "class bilangan:\n",
    "    def __init__(self,bil1,bil2):\n",
    "        self.bil1=bil1\n",
    "        self.bil2=bil2\n",
    "    def __str__(self):\n",
    "        return str(self.bil1),str(self.bil2)\n",
    "    def __add__(self,other):\n",
    "        return (self.bil1+other.bil1,self.bil2+other.bil2)\n",
    "\n",
    "    def __sub__(self, other):\n",
    "        return (self.bil1 - other.bil1, self.bil2 - other.bil2)\n",
    "\n",
    "obj=bilangan\n",
    "obj1=bilangan(8,7)\n",
    "obj2=bilangan(4,3)\n",
    "jumlah=(obj1+obj2)\n",
    "kurang=(obj1-obj2)\n",
    "print(\"hasil jumlah=\",jumlah)\n",
    "print(\"hasil kurang=\",kurang)\n"
   ]
  },
  {
   "cell_type": "code",
   "execution_count": null,
   "metadata": {},
   "outputs": [],
   "source": []
  }
 ],
 "metadata": {
  "kernelspec": {
   "display_name": "Python 3",
   "language": "python",
   "name": "python3"
  },
  "language_info": {
   "codemirror_mode": {
    "name": "ipython",
    "version": 3
   },
   "file_extension": ".py",
   "mimetype": "text/x-python",
   "name": "python",
   "nbconvert_exporter": "python",
   "pygments_lexer": "ipython3",
   "version": "3.7.0"
  }
 },
 "nbformat": 4,
 "nbformat_minor": 2
}
