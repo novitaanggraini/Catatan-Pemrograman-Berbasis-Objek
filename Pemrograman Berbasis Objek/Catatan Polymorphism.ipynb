{
 "cells": [
  {
   "cell_type": "markdown",
   "metadata": {},
   "source": [
    "# Polymorphism\n",
    "Polymorphism adalah:suatu object dapat memiliki berbagai bentuk, sebagai object dari class sendiri atau object dari superclassnya. didalam Polymorphism biasanya terdapat abstract class,abstract class: adalah class dimana method nya tidak dijelaskan secara detail dan didefinisikan lebih jelas dalam class anaknya.\n",
    "<img src=\"polymorphism.jpg\">\n",
    "\n",
    "Berikut Adalah Bentuk umum Polymorphism:"
   ]
  },
  {
   "cell_type": "code",
   "execution_count": 5,
   "metadata": {},
   "outputs": [
    {
     "name": "stdout",
     "output_type": "stream",
     "text": [
      "The shark's skeleton is made of cartilage.\n",
      "The clownfish's skeleton is made of bone.\n"
     ]
    }
   ],
   "source": [
    "class Shark(): # ini merupakan BaseClass sekaligus Abstact Class\n",
    "    def swim(self):\n",
    "        print(\"The shark is swimming.\")\n",
    "    def swim_backwards(self):\n",
    "        print(\"The shark cannot swim backwards, but can sink backwards.\")\n",
    "    def skeleton(self):\n",
    "        print(\"The shark's skeleton is made of cartilage.\")\n",
    "\n",
    "\n",
    "class Clownfish(Shark): # ini adalah Sub Class\n",
    "    def swim(self):\n",
    "        print(\"The clownfish is swimming.\")\n",
    "    def swim_backwards(self):\n",
    "        print(\"The clownfish can swim backwards.\")\n",
    "    def skeleton(self):\n",
    "        print(\"The clownfish's skeleton is made of bone.\")\n",
    "        \n",
    "#Objek CLass Shark\n",
    "sammy = Shark()\n",
    "sammy.skeleton()\n",
    "\n",
    "#Objek CLass Clownfish\n",
    "casey = Clownfish()\n",
    "casey.skeleton()\n"
   ]
  },
  {
   "cell_type": "markdown",
   "metadata": {},
   "source": [
    "Berikut Adalah Contoh Polymorphism dengan FUnction:"
   ]
  },
  {
   "cell_type": "code",
   "execution_count": 4,
   "metadata": {},
   "outputs": [
    {
     "name": "stdout",
     "output_type": "stream",
     "text": [
      "The shark's skeleton is made of cartilage.\n",
      "The clownfish's skeleton is made of bone.\n",
      "The shark is swimming.\n",
      "The clownfish is swimming.\n"
     ]
    }
   ],
   "source": [
    "class Shark():\n",
    "    def swim(self):\n",
    "        print(\"The shark is swimming.\")\n",
    "    def swim_backwards(self):\n",
    "        print(\"The shark cannot swim backwards, but can sink backwards.\")\n",
    "    def skeleton(self):\n",
    "        print(\"The shark's skeleton is made of cartilage.\")\n",
    "\n",
    "\n",
    "class Clownfish(Shark):\n",
    "    def swim(self):\n",
    "        print(\"The clownfish is swimming.\")\n",
    "    def swim_backwards(self):\n",
    "        print(\"The clownfish can swim backwards.\")\n",
    "    def skeleton(self):\n",
    "        print(\"The clownfish's skeleton is made of bone.\")\n",
    "        \n",
    "#Objek CLass Shark\n",
    "sammy = Shark()\n",
    "sammy.skeleton()\n",
    "\n",
    "#Objek Class Fish\n",
    "casey = Clownfish()\n",
    "casey.skeleton()\n",
    "\n",
    "#function\n",
    "def in_the_pacific(fish):\n",
    "    fish.swim()\n",
    "    \n",
    "in_the_pacific(sammy)\n",
    "in_the_pacific(casey)"
   ]
  },
  {
   "cell_type": "markdown",
   "metadata": {},
   "source": [
    "Berikut Adalah Contoh Polymorphism dengan Method:"
   ]
  },
  {
   "cell_type": "code",
   "execution_count": 6,
   "metadata": {},
   "outputs": [
    {
     "name": "stdout",
     "output_type": "stream",
     "text": [
      "The shark is swimming.\n",
      "The shark cannot swim backwards, but can sink backwards.\n",
      "The shark's skeleton is made of cartilage.\n",
      "The clownfish is swimming.\n",
      "The clownfish can swim backwards.\n",
      "The clownfish's skeleton is made of bone.\n"
     ]
    }
   ],
   "source": [
    "class Shark():\n",
    "    def swim(self):\n",
    "        print(\"The shark is swimming.\")\n",
    "    def swim_backwards(self):\n",
    "        print(\"The shark cannot swim backwards, but can sink backwards.\")\n",
    "    def skeleton(self):\n",
    "        print(\"The shark's skeleton is made of cartilage.\")\n",
    "\n",
    "\n",
    "class Clownfish(Shark):\n",
    "    def swim(self):\n",
    "        print(\"The clownfish is swimming.\")\n",
    "    def swim_backwards(self):\n",
    "        print(\"The clownfish can swim backwards.\")\n",
    "    def skeleton(self):\n",
    "        print(\"The clownfish's skeleton is made of bone.\")\n",
    "        \n",
    "#methode\n",
    "sammy = Shark() #objek Class Shark\n",
    "casey = Clownfish() #Objek Class Clownfish\n",
    "\n",
    "for fish in (sammy, casey):\n",
    "    fish.swim()\n",
    "    fish.swim_backwards()\n",
    "    fish.skeleton()\n"
   ]
  },
  {
   "cell_type": "markdown",
   "metadata": {},
   "source": [
    "Contoh Polymorphism Class document"
   ]
  },
  {
   "cell_type": "code",
   "execution_count": 7,
   "metadata": {},
   "outputs": [
    {
     "name": "stdout",
     "output_type": "stream",
     "text": [
      "document1 : Show pdf contents\n",
      "document2 : Show pdf contents\n",
      "document3 : Show word contents\n"
     ]
    }
   ],
   "source": [
    "class document:\n",
    "    def __init__(self,name):\n",
    "        self.name = name\n",
    "    def show(self):\n",
    "        raise NotImplementedError(\"subclass must implement abstrct method\")\n",
    "\n",
    "\n",
    "class pdf(document):\n",
    "    def show(self):\n",
    "        return 'Show pdf contents'\n",
    "\n",
    "class word(document):\n",
    "    def show(self):\n",
    "        return 'Show word contents'\n",
    "\n",
    "\n",
    "documents = [pdf('document1'),\n",
    "             pdf('document2'),\n",
    "             word('document3')]\n",
    "for document in documents:\n",
    "    print(document.name, \":\", document.show())"
   ]
  },
  {
   "cell_type": "markdown",
   "metadata": {},
   "source": [
    "Contoh Polymorphism Class car:"
   ]
  },
  {
   "cell_type": "code",
   "execution_count": 8,
   "metadata": {},
   "outputs": [
    {
     "name": "stdout",
     "output_type": "stream",
     "text": [
      "bananatruck : truck driving because heavily loaded\n",
      "orangetruck : truck driving because heavily loaded\n",
      "Z3 : sportscar driving\n"
     ]
    }
   ],
   "source": [
    "class car:\n",
    "    def __init__(self,name):\n",
    "        self.name=name\n",
    "    def drive(self):\n",
    "        raise NotImplementedError(\"subclass must implement abstrct method\")\n",
    "    def stop(self):\n",
    "        raise NotImplementedError(\"subclass must implement abstrct method\")\n",
    "\n",
    "class sportscar(car):\n",
    "    def drive(self):\n",
    "        return 'sportscar driving'\n",
    "    def stop(self):\n",
    "        return 'sportscar bracking'\n",
    "\n",
    "\n",
    "class truck(car):\n",
    "    def drive(self):\n",
    "        return 'truck driving because heavily loaded'\n",
    "    def stop(self):\n",
    "        return 'truck bracking'\n",
    "\n",
    "cars =[truck('bananatruck'),\n",
    "       truck('orangetruck'),\n",
    "       sportscar('Z3')]\n",
    "for car in cars:\n",
    "    print(car.name,\":\",car.drive())"
   ]
  }
 ],
 "metadata": {
  "kernelspec": {
   "display_name": "Python 3",
   "language": "python",
   "name": "python3"
  },
  "language_info": {
   "codemirror_mode": {
    "name": "ipython",
    "version": 3
   },
   "file_extension": ".py",
   "mimetype": "text/x-python",
   "name": "python",
   "nbconvert_exporter": "python",
   "pygments_lexer": "ipython3",
   "version": "3.7.0"
  }
 },
 "nbformat": 4,
 "nbformat_minor": 2
}
