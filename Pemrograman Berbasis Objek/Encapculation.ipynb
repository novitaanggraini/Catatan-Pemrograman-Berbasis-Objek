{
 "cells": [
  {
   "cell_type": "markdown",
   "metadata": {},
   "source": [
    "# Encapsulation\n",
    "<img src=\"encapsulation.png\">\n",
    "encapculation adalah private method dan atribut dlah atribut dan method yang tak bisa diakses diluar class\n",
    "privat atribut ditandai dengan self._b (masih bisa diakses diluar kelas) dan self.__c\n",
    "untuk mengakses privat method\n",
    "print(nama objek._nama class__privatmethod).\n",
    "\n",
    "Publik method/atribut adalah method/atribut yang bisa diakses dikelas manapun tanpa menggunakan method tambahan.\n",
    "Private method/atribut adalah  method/atribut yang hanya bisa diakses dikelasnya sendiri."
   ]
  },
  {
   "cell_type": "markdown",
   "metadata": {},
   "source": [
    "Berikut adalah contoh private atribut dan cara mengaksesnya:"
   ]
  },
  {
   "cell_type": "code",
   "execution_count": 2,
   "metadata": {},
   "outputs": [
    {
     "name": "stdout",
     "output_type": "stream",
     "text": [
      "22\n",
      "23\n",
      "23\n"
     ]
    }
   ],
   "source": [
    "class Robot(object):\n",
    "    def __init__(self):\n",
    "        self.__Version=22 #privat atribut\n",
    "        \n",
    "    def getVersion(self):#mengakses privat atribut\n",
    "        print(self.__Version)\n",
    "        \n",
    "    def setVersion(self,Version):#mensetting privat atribut\n",
    "        self.__Version = Version\n",
    "        \n",
    "obj= Robot()\n",
    "obj.getVersion()\n",
    "obj.setVersion(23)\n",
    "obj.getVersion()\n",
    "print(obj._Robot__Version)#objek untuk mengakses privat method\n",
    "    "
   ]
  },
  {
   "cell_type": "markdown",
   "metadata": {},
   "source": [
    "Berikut adalah contoh publik method dan Private method dan cara mengaksesnya."
   ]
  },
  {
   "cell_type": "code",
   "execution_count": 5,
   "metadata": {},
   "outputs": [
    {
     "name": "stdout",
     "output_type": "stream",
     "text": [
      "This is a Private Method\n",
      "This is another Private Method\n"
     ]
    }
   ],
   "source": [
    "class A(object):\n",
    "    #Public Method (+)\n",
    "    def MyPublicMethod(self):\n",
    "        return 'This is a Public Method'\n",
    "    #private method with single _(underscore)\n",
    "    def _MyPrivateMethod(self):\n",
    "        return 'This is a Private Method'\n",
    "    #private method with Double __(underscore)\n",
    "    def __MyPrivateMethod(self):\n",
    "        return 'This is another Private Method'\n",
    "    \n",
    "obj=A()#objek untuk mengakses publik method\n",
    "print(obj._MyPrivateMethod())#utuk mengkases privat method single underscore\n",
    "print(obj._A__MyPrivateMethod())#untuk mengakses private method double underscore\n",
    "\n",
    "\n"
   ]
  },
  {
   "cell_type": "code",
   "execution_count": 10,
   "metadata": {},
   "outputs": [
    {
     "name": "stdout",
     "output_type": "stream",
     "text": [
      "driving.maxspeed200\n",
      "driving.maxspeed10\n"
     ]
    }
   ],
   "source": [
    "class car:\n",
    "    __Maxspeed=0\n",
    "    __name=\"\"\n",
    "\n",
    "    def __init__(self):\n",
    "        self.__Maxspeed=200 #Private atribut\n",
    "        self.__name=\"supercar\" #private atribut\n",
    "        \n",
    "    def setMaxspeed(self,Maxspeed): #method yang digunakan untuk mensetting private atribut\n",
    "        self.__Maxspeed=Maxspeed\n",
    "        \n",
    "    def drive(self):\n",
    "        print('driving.maxspeed'+ str(self.__Maxspeed))\n",
    "        \n",
    "redcar= car()#objek class car\n",
    "redcar.drive()#objek untuk mengakses method dari class car sebelum atributnya di setting\n",
    "redcar.setMaxspeed(10)#objek untuk mengakses method dari class car\n",
    "redcar.drive()#objek untuk mengakses method dari class car setelah atributnya di setting"
   ]
  },
  {
   "cell_type": "code",
   "execution_count": 2,
   "metadata": {},
   "outputs": [
    {
     "name": "stdout",
     "output_type": "stream",
     "text": [
      "Panjang= 100\n",
      "Panjang= 50\n",
      "50\n",
      "Jari-Jari= 70\n",
      "Jari-Jari= 30\n",
      "30\n",
      "Panjang Sisi= 65\n",
      "Panjang Sisi= 40\n",
      "40\n"
     ]
    }
   ],
   "source": [
    "class shape:\n",
    "    def __init__(self,name):\n",
    "        self.__name=name\n",
    "\n",
    "class rectangle(shape):\n",
    "    def __init__(self,name):\n",
    "        super().__init__(name)\n",
    "        self.__Panjang=100\n",
    "        self.__lebar=80\n",
    "    def getPanjang(self):\n",
    "        print(\"Panjang=\",self.__Panjang)\n",
    "    def setPanjang(self,Panjang):\n",
    "        self.__Panjang=Panjang\n",
    "\n",
    "class circle(shape):\n",
    "    def __init__(self,name):\n",
    "        super().__init__(name)\n",
    "        self.__jarijari=70\n",
    "    def getjarijari(self):\n",
    "        print(\"Jari-Jari=\",self.__jarijari)\n",
    "    def setjarijari(self,jarijari):\n",
    "        self.__jarijari=jarijari\n",
    "\n",
    "class triangle(shape):\n",
    "    def __init__(self,name):\n",
    "        super().__init__(name)\n",
    "        self.__panjangsisi=65\n",
    "    def getpanjangsisi(self):\n",
    "        print(\"Panjang Sisi=\",self.__panjangsisi)\n",
    "    def setpanjangsisi(self,panjangsisi):\n",
    "        self.__panjangsisi= panjangsisi\n",
    "\n",
    " #object rectangle\n",
    "persegi= rectangle(\"Segi Empat\")\n",
    "persegi.getPanjang()\n",
    "persegi.setPanjang(50)\n",
    "persegi.getPanjang()\n",
    "print(persegi._rectangle__Panjang)\n",
    "#objek circle\n",
    "bulat= circle(\"lingkaran\")\n",
    "bulat.getjarijari()\n",
    "bulat.setjarijari(30)\n",
    "bulat.getjarijari()\n",
    "print(bulat._circle__jarijari)\n",
    "#objek triangle\n",
    "st= triangle(\"segitiga\")\n",
    "st.getpanjangsisi()\n",
    "st.setpanjangsisi(40)\n",
    "st.getpanjangsisi()\n",
    "print(st._triangle__panjangsisi)\n"
   ]
  },
  {
   "cell_type": "code",
   "execution_count": null,
   "metadata": {},
   "outputs": [],
   "source": []
  }
 ],
 "metadata": {
  "kernelspec": {
   "display_name": "Python 3",
   "language": "python",
   "name": "python3"
  },
  "language_info": {
   "codemirror_mode": {
    "name": "ipython",
    "version": 3
   },
   "file_extension": ".py",
   "mimetype": "text/x-python",
   "name": "python",
   "nbconvert_exporter": "python",
   "pygments_lexer": "ipython3",
   "version": "3.7.0"
  }
 },
 "nbformat": 4,
 "nbformat_minor": 2
}
